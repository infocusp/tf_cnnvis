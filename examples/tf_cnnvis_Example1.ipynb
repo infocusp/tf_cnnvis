{
 "cells": [
  {
   "cell_type": "code",
   "execution_count": 1,
   "metadata": {
    "ExecuteTime": {
     "end_time": "2018-10-20T11:30:29.047032Z",
     "start_time": "2018-10-20T11:30:28.222124Z"
    }
   },
   "outputs": [],
   "source": [
    "# import\n",
    "import os\n",
    "import sys\n",
    "import time\n",
    "import copy\n",
    "import h5py\n",
    "import numpy as np\n",
    "import tensorflow as tf\n",
    "from scipy.misc import imread, imresize\n",
    "\n",
    "from tf_cnnvis import *"
   ]
  },
  {
   "cell_type": "code",
   "execution_count": 2,
   "metadata": {
    "ExecuteTime": {
     "end_time": "2018-10-20T11:32:12.901475Z",
     "start_time": "2018-10-20T11:30:29.261837Z"
    }
   },
   "outputs": [],
   "source": [
    "# download mannually\n",
    "\n",
    "# download alexnet model weights\n",
    "# if not os.path.exists(\"alexnet_weights.h5\"):\n",
    "#     os.system(\"python -m wget -o alexnet_weights.h5 http://files.heuritech.com/weights/alexnet_weights.h5\")"
   ]
  },
  {
   "cell_type": "code",
   "execution_count": null,
   "metadata": {},
   "outputs": [],
   "source": [
    "# loading parameters and mean image for pretrained alexnet model\n",
    "mean = np.load(\"./img_mean.npy\").transpose((1, 2, 0)) # load mean image of imagenet dataset\n",
    "\n",
    "f = h5py.File('./alexnet_weights.h5','r')\n",
    "\n",
    "conv_1 = [f[\"conv_1\"][\"conv_1_W\"], f[\"conv_1\"][\"conv_1_b\"]]\n",
    "conv_2_1 = [f[\"conv_2_1\"][\"conv_2_1_W\"], f[\"conv_2_1\"][\"conv_2_1_b\"]]\n",
    "conv_2_2 = [f[\"conv_2_2\"][\"conv_2_2_W\"], f[\"conv_2_2\"][\"conv_2_2_b\"]]\n",
    "conv_3 = [f[\"conv_3\"][\"conv_3_W\"], f[\"conv_3\"][\"conv_3_b\"]]\n",
    "conv_4_1 = [f[\"conv_4_1\"][\"conv_4_1_W\"], f[\"conv_4_1\"][\"conv_4_1_b\"]]\n",
    "conv_4_2 = [f[\"conv_4_2\"][\"conv_4_2_W\"], f[\"conv_4_2\"][\"conv_4_2_b\"]]\n",
    "conv_5_1 = [f[\"conv_5_1\"][\"conv_5_1_W\"], f[\"conv_5_1\"][\"conv_5_1_b\"]]\n",
    "conv_5_2 = [f[\"conv_5_2\"][\"conv_5_2_W\"], f[\"conv_5_2\"][\"conv_5_2_b\"]]\n",
    "fc_6 = [f[\"dense_1\"][\"dense_1_W\"], f[\"dense_1\"][\"dense_1_b\"]]\n",
    "fc_7 = [f[\"dense_2\"][\"dense_2_W\"], f[\"dense_2\"][\"dense_2_b\"]]\n",
    "fc_8 = [f[\"dense_3\"][\"dense_3_W\"], f[\"dense_3\"][\"dense_3_b\"]]"
   ]
  },
  {
   "cell_type": "code",
   "execution_count": null,
   "metadata": {},
   "outputs": [],
   "source": [
    "# tensorflow model implementation (Alexnet convolution)\n",
    "tf.reset_default_graph()\n",
    "\n",
    "X = tf.placeholder(tf.float32, shape = [None, 224, 224, 3]) # placeholder for input images\n",
    "y_ = tf.placeholder(tf.float32, shape = [None, 1000]) # placeholder for true labels for input images\n",
    "\n",
    "radius = 5; alpha = 1e-4; beta = 0.75; bias = 2.0 # hyper parametes for lrn\n",
    "\n",
    "\n",
    "# Layer - 1 conv1\n",
    "W_conv_1 = tf.Variable(np.transpose(conv_1[0], (2, 3, 1, 0)))\n",
    "b_conv_1 = tf.Variable(np.reshape(conv_1[1], (96, )))\n",
    "\n",
    "y_conv_1 = tf.nn.conv2d(X, filter=W_conv_1, strides=[1, 4, 4, 1], padding=\"SAME\") + b_conv_1\n",
    "h_conv_1 = tf.nn.relu(y_conv_1, name = \"conv1\")\n",
    "h_conv_1 = tf.nn.local_response_normalization(h_conv_1, depth_radius=radius, alpha=alpha, beta=beta, bias=bias)\n",
    "h_pool_1 = tf.nn.max_pool(h_conv_1, ksize=[1, 3, 3, 1], strides=[1, 2, 2, 1], padding=\"VALID\")\n",
    "\n",
    "h_pool_1_1, h_pool_1_2 = tf.split(axis = 3, value = h_pool_1, num_or_size_splits = 2)\n",
    "\n",
    "\n",
    "\n",
    "# Layer - 2 conv2\n",
    "W_conv_2_1 = tf.Variable(np.transpose(conv_2_1[0], (2, 3, 1, 0)))\n",
    "b_conv_2_1 = tf.Variable(np.reshape(conv_2_1[1], (128, )))\n",
    "\n",
    "y_conv_2_1 = tf.nn.conv2d(h_pool_1_1, filter=W_conv_2_1, strides=[1, 1, 1, 1], padding=\"SAME\") + b_conv_2_1\n",
    "h_conv_2_1 = tf.nn.relu(y_conv_2_1, name = \"conv2_1\")\n",
    "h_conv_2_1 = tf.nn.local_response_normalization(h_conv_2_1, depth_radius=radius, alpha=alpha, beta=beta, bias=bias)\n",
    "h_pool_2_1 = tf.nn.max_pool(h_conv_2_1, ksize=[1, 3, 3, 1], strides=[1, 2, 2, 1], padding=\"VALID\")\n",
    "\n",
    "\n",
    "W_conv_2_2 = tf.Variable(np.transpose(conv_2_2[0], (2, 3, 1, 0)))\n",
    "b_conv_2_2 = tf.Variable(np.reshape(conv_2_2[1], (128, )))\n",
    "\n",
    "y_conv_2_2 = tf.nn.conv2d(h_pool_1_2, filter=W_conv_2_2, strides=[1, 1, 1, 1], padding=\"SAME\") + b_conv_2_2\n",
    "h_conv_2_2 = tf.nn.relu(y_conv_2_2, name = \"conv2_2\")\n",
    "h_conv_2_2 = tf.nn.local_response_normalization(h_conv_2_2, depth_radius=radius, alpha=alpha, beta=beta, bias=bias)\n",
    "h_pool_2_2 = tf.nn.max_pool(h_conv_2_2, ksize=[1, 3, 3, 1], strides=[1, 2, 2, 1], padding=\"VALID\")\n",
    "\n",
    "h_pool_2 = tf.concat(axis = 3, values = [h_pool_2_1, h_pool_2_2])\n",
    "\n",
    "\n",
    "\n",
    "# Layer - 3 conv3\n",
    "W_conv_3 = tf.Variable(np.transpose(conv_3[0], (2, 3, 1, 0)))\n",
    "b_conv_3 = tf.Variable(np.reshape(conv_3[1], (384, )))\n",
    "\n",
    "y_conv_3 = tf.nn.conv2d(h_pool_2, filter=W_conv_3, strides=[1, 1, 1, 1], padding=\"SAME\") + b_conv_3\n",
    "h_conv_3 = tf.nn.relu(y_conv_3, name = \"conv3\")\n",
    "\n",
    "h_conv_3_1, h_conv_3_2 = tf.split(axis = 3, value = h_conv_3, num_or_size_splits = 2)\n",
    "\n",
    "\n",
    "# h_conv_4_1 = h_conv_3_1\n",
    "# h_conv_4_2 = h_conv_3_2\n",
    "# Layer - 4 conv4\n",
    "W_conv_4_1 = tf.Variable(np.transpose(conv_4_1[0], (2, 3, 1, 0)))\n",
    "b_conv_4_1 = tf.Variable(np.reshape(conv_4_1[1], (192, )))\n",
    "\n",
    "y_conv_4_1 = tf.nn.conv2d(h_conv_3_1, filter=W_conv_4_1, strides=[1, 1, 1, 1], padding=\"SAME\") + b_conv_4_1\n",
    "h_conv_4_1 = tf.nn.relu(y_conv_4_1, name = \"conv4_1\")\n",
    "\n",
    "\n",
    "W_conv_4_2 = tf.Variable(np.transpose(conv_4_2[0], (2, 3, 1, 0)))\n",
    "b_conv_4_2 = tf.Variable(np.reshape(conv_4_2[1], (192, )))\n",
    "\n",
    "y_conv_4_2 = tf.nn.conv2d(h_conv_3_2, filter=W_conv_4_2, strides=[1, 1, 1, 1], padding=\"SAME\") + b_conv_4_2\n",
    "h_conv_4_2 = tf.nn.relu(y_conv_4_2, name = \"conv4_2\")\n",
    "\n",
    "h_conv_4 = tf.concat(axis = 3, values = [h_conv_4_1, h_conv_4_2])\n",
    "\n",
    "\n",
    "\n",
    "# Layer - 5 conv5\n",
    "W_conv_5_1 = tf.Variable(np.transpose(conv_5_1[0], (2, 3, 1, 0)))\n",
    "b_conv_5_1 = tf.Variable(np.reshape(conv_5_1[1], (128, )))\n",
    "\n",
    "y_conv_5_1 = tf.nn.conv2d(h_conv_4_1, filter=W_conv_5_1, strides=[1, 1, 1, 1], padding=\"SAME\") + b_conv_5_1\n",
    "h_conv_5_1 = tf.nn.relu(y_conv_5_1, name = \"conv5_1\")\n",
    "h_conv_5_1 = tf.nn.local_response_normalization(h_conv_5_1, depth_radius=radius, alpha=alpha, beta=beta, bias=bias)\n",
    "h_pool_5_1 = tf.nn.max_pool(h_conv_5_1, ksize=[1, 3, 3, 1], strides=[1, 2, 2, 1], padding=\"VALID\")\n",
    "\n",
    "\n",
    "W_conv_5_2 = tf.Variable(np.transpose(conv_5_2[0], (2, 3, 1, 0)))\n",
    "b_conv_5_2 = tf.Variable(np.reshape(conv_5_2[1], (128, )))\n",
    "\n",
    "y_conv_5_2 = tf.nn.conv2d(h_conv_4_2, filter=W_conv_5_2, strides=[1, 1, 1, 1], padding=\"SAME\") + b_conv_5_2\n",
    "h_conv_5_2 = tf.nn.relu(y_conv_5_2, name = \"conv5_2\")\n",
    "h_conv_5_2 = tf.nn.local_response_normalization(h_conv_5_2, depth_radius=radius, alpha=alpha, beta=beta, bias=bias)\n",
    "h_pool_5_2 = tf.nn.max_pool(h_conv_5_2, ksize=[1, 3, 3, 1], strides=[1, 2, 2, 1], padding=\"VALID\")\n",
    "\n",
    "h_pool_5 = tf.concat(axis = 3, values = [h_pool_5_1, h_pool_5_2])\n",
    "\n",
    "dimensions = h_pool_5.get_shape().as_list()\n",
    "dim = dimensions[1] * dimensions[2] * dimensions[3]\n",
    "\n",
    "# # Part of Alexnet model which is not required for deconvolution\n",
    "h_flatten = tf.reshape(h_pool_5, shape=[-1, dim])\n",
    "\n",
    "# Layer - 6 fc6\n",
    "W_full_6 = tf.Variable(np.array(fc_6[0]))\n",
    "b_full_6 = tf.Variable(np.array(fc_6[1]))\n",
    "\n",
    "y_full_6 = tf.add(tf.matmul(h_flatten, W_full_6), b_full_6)\n",
    "h_full_6 = tf.nn.relu(y_full_6, name = \"fc6\")\n",
    "h_dropout_6 = tf.nn.dropout(h_full_6, 0.5)\n",
    "\n",
    "\n",
    "# Layer - 7 fc7\n",
    "W_full_7 = tf.Variable(np.array(fc_7[0]))\n",
    "b_full_7 = tf.Variable(np.array(fc_7[1]))\n",
    "\n",
    "y_full_7 = tf.add(tf.matmul(h_dropout_6, W_full_7), b_full_7)\n",
    "h_full_7 = tf.nn.relu(y_full_7, name = \"fc7\")\n",
    "h_dropout_7 = tf.nn.dropout(h_full_7, 0.5)\n",
    "\n",
    "\n",
    "# Layer - 8 fc8\n",
    "W_full_8 = tf.Variable(np.array(fc_8[0]))\n",
    "b_full_8 = tf.Variable(np.array(fc_8[1]))\n",
    "\n",
    "y_full_8 = tf.add(tf.matmul(h_dropout_7, W_full_8), b_full_8, name = \"fc8\")"
   ]
  },
  {
   "cell_type": "code",
   "execution_count": null,
   "metadata": {},
   "outputs": [],
   "source": [
    "# reading sample image\n",
    "im = np.expand_dims(imresize(imresize(imread(os.path.join(\"sample_images\", \"images.jpg\")), (256, 256)) - mean, \n",
    "                             (224, 224)), axis = 0)"
   ]
  },
  {
   "cell_type": "code",
   "execution_count": null,
   "metadata": {},
   "outputs": [],
   "source": [
    "# open a session and initialize graph variables\n",
    "# CAVEAT: trained alexnet weights have been set as initialization values in the graph nodes.\n",
    "#         For this reason visualization can be performed just after initialization\n",
    "sess = tf.Session(graph=tf.get_default_graph())\n",
    "sess.run(tf.global_variables_initializer())"
   ]
  },
  {
   "cell_type": "code",
   "execution_count": null,
   "metadata": {},
   "outputs": [],
   "source": [
    "# activation visualization\n",
    "layers = ['r', 'p', 'c']\n",
    "\n",
    "start = time.time()\n",
    "with sess.as_default():\n",
    "# with sess_graph_path = None, the default Session will be used for visualization.\n",
    "    is_success = activation_visualization(sess_graph_path = None, value_feed_dict = {X : im}, \n",
    "                                          layers=layers, path_logdir=os.path.join(\"Log\",\"AlexNet\"), \n",
    "                                          path_outdir=os.path.join(\"Output\",\"AlexNet\"))\n",
    "start = time.time() - start\n",
    "print(\"Total Time = %f\" % (start))"
   ]
  },
  {
   "cell_type": "code",
   "execution_count": null,
   "metadata": {},
   "outputs": [],
   "source": [
    "# deconv visualization\n",
    "layers = ['r', 'p', 'c']\n",
    "\n",
    "start = time.time()\n",
    "with sess.as_default():\n",
    "    is_success = deconv_visualization(sess_graph_path = None, value_feed_dict = {X : im}, \n",
    "                                      layers=layers, path_logdir=os.path.join(\"Log\",\"AlexNet\"), \n",
    "                                      path_outdir=os.path.join(\"Output\",\"AlexNet\"))\n",
    "start = time.time() - start\n",
    "print(\"Total Time = %f\" % (start))"
   ]
  },
  {
   "cell_type": "code",
   "execution_count": null,
   "metadata": {},
   "outputs": [],
   "source": [
    "#close the session and release variables\n",
    "sess.close()"
   ]
  },
  {
   "cell_type": "code",
   "execution_count": null,
   "metadata": {},
   "outputs": [],
   "source": []
  }
 ],
 "metadata": {
  "anaconda-cloud": {},
  "kernelspec": {
   "display_name": "Python 3",
   "language": "python",
   "name": "python3"
  },
  "language_info": {
   "codemirror_mode": {
    "name": "ipython",
    "version": 3
   },
   "file_extension": ".py",
   "mimetype": "text/x-python",
   "name": "python",
   "nbconvert_exporter": "python",
   "pygments_lexer": "ipython3",
   "version": "3.6.5"
  },
  "varInspector": {
   "cols": {
    "lenName": 16.0,
    "lenType": 16.0,
    "lenVar": "100"
   },
   "kernels_config": {
    "python": {
     "delete_cmd_postfix": "",
     "delete_cmd_prefix": "del ",
     "library": "var_list.py",
     "varRefreshCmd": "print(var_dic_list())"
    },
    "r": {
     "delete_cmd_postfix": ") ",
     "delete_cmd_prefix": "rm(",
     "library": "var_list.r",
     "varRefreshCmd": "cat(var_dic_list()) "
    }
   },
   "types_to_exclude": [
    "module",
    "function",
    "builtin_function_or_method",
    "instance",
    "_Feature"
   ],
   "window_display": true
  }
 },
 "nbformat": 4,
 "nbformat_minor": 2
}
